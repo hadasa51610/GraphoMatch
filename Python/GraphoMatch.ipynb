{
 "cells": [
  {
   "cell_type": "code",
   "execution_count": 3,
   "id": "97eb40dc",
   "metadata": {
    "collapsed": false,
    "jupyter": {
     "outputs_hidden": false
    },
    "pycharm": {
     "name": "#%%\n"
    }
   },
   "outputs": [],
   "source": [
    "from flask import Flask, request, jsonify\n",
    "from openai import OpenAI\n",
    "import base64\n",
    "import requests\n",
    "from dotenv import load_dotenv\n",
    "import os"
   ]
  },
  {
   "cell_type": "code",
   "execution_count": null,
   "id": "8887cc61",
   "metadata": {
    "collapsed": false,
    "jupyter": {
     "outputs_hidden": false
    },
    "pycharm": {
     "name": "#%%\n"
    }
   },
   "outputs": [
    {
     "name": "stdout",
     "output_type": "stream",
     "text": [
      " * Serving Flask app '__main__'\n",
      " * Debug mode: off\n"
     ]
    },
    {
     "name": "stderr",
     "output_type": "stream",
     "text": [
      "WARNING: This is a development server. Do not use it in a production deployment. Use a production WSGI server instead.\n",
      " * Running on all addresses (0.0.0.0)\n",
      " * Running on http://127.0.0.1:5000\n",
      " * Running on http://192.168.0.111:5000\n",
      "Press CTRL+C to quit\n",
      "192.168.0.111 - - [05/May/2025 18:38:45] \"POST /analyze HTTP/1.1\" 200 -\n",
      "192.168.0.111 - - [05/May/2025 18:38:45] \"POST /analyze HTTP/1.1\" 200 -\n",
      "192.168.0.111 - - [05/May/2025 18:39:17] \"POST /analyze HTTP/1.1\" 200 -\n",
      "192.168.0.111 - - [05/May/2025 18:39:23] \"POST /analyze HTTP/1.1\" 200 -\n",
      "192.168.0.111 - - [05/May/2025 18:40:31] \"POST /analyze HTTP/1.1\" 200 -\n",
      "192.168.0.111 - - [05/May/2025 18:40:32] \"POST /analyze HTTP/1.1\" 200 -\n",
      "192.168.0.111 - - [05/May/2025 18:44:01] \"POST /analyze HTTP/1.1\" 200 -\n",
      "192.168.0.111 - - [05/May/2025 18:44:02] \"POST /analyze HTTP/1.1\" 200 -\n"
     ]
    }
   ],
   "source": [
    "app = Flask(__name__)\n",
    "\n",
    "load_dotenv()\n",
    "\n",
    "client_Gemini = OpenAI(\n",
    "            api_key=os.getenv(\"API_KEY\"),\n",
    "            base_url=os.getenv(\"BASE_URL\")\n",
    "        )\n",
    "\n",
    "\n",
    "def image_url_to_base64(image_url):\n",
    "    \"\"\"\n",
    "   Downloads an image from the URL and returns its base64 encoding\n",
    "    \"\"\"\n",
    "    response = requests.get(image_url)\n",
    "    if response.status_code != 200:\n",
    "        raise ValueError(\"Failed to download the image\")\n",
    "    return base64.b64encode(response.content).decode('utf-8')\n",
    "    \n",
    "\n",
    "@app.route('/analyze', methods=['POST'])\n",
    "def analyze():\n",
    "    try:\n",
    "        data = request.get_json()\n",
    "        image_url = data.get('imageUrl')\n",
    "\n",
    "        if not image_url:\n",
    "            return jsonify({'error': 'imageUrl is missing from the request'}), 400\n",
    "\n",
    "        base64_image = image_url_to_base64(image_url)\n",
    "\n",
    "        response_Gemini = client_Gemini.chat.completions.create(\n",
    "          model=\"gemini-2.0-flash\",\n",
    "          messages=[\n",
    "            {\n",
    "              \"role\": \"user\",\n",
    "              \"content\": [\n",
    "                {\n",
    "                  \"type\": \"text\",\n",
    "                  \"text\": \"\"\"You are an experienced handwriting analyst.\n",
    "                  give me answer in english.\n",
    "                  I am attaching an image of handwritten text.\n",
    "                    Please describe in detail the visual features you identify in the text:\n",
    "                    \n",
    "                    What does the handwriting look like?\n",
    "                    \n",
    "                    Can anything be inferred from the shape and characteristics of the letters?\n",
    "                    \n",
    "                    Are there any noticeable patterns in the writing?\n",
    "                    \n",
    "                    What can be learned about the writing style and its features?\n",
    "                    \n",
    "                    Can you identify a particular style that may be associated with personality traits or a unique expression style?\n",
    "                    \n",
    "                    Avoid directly mentioning graphology and focus on a detailed description of the handwriting's character.\n",
    "                    Avoid making medical or psychological diagnoses, and focus on a descriptive graphological analysis.\"\"\",\n",
    "                },\n",
    "                {\n",
    "                  \"type\": \"image_url\",\n",
    "                  \"image_url\": {\n",
    "                    \"url\":  f\"data:image/jpeg;base64,{base64_image}\"\n",
    "                  },\n",
    "                },\n",
    "              ],\n",
    "            }\n",
    "          ],\n",
    "        )\n",
    "\n",
    "        visual_features =response_Gemini.choices[0].message.content\n",
    "\n",
    "        prompt = f\"\"\"\n",
    "         Graphological analysis of the handwriting based on the following features:\n",
    "        {visual_features}\n",
    "        \n",
    "        Please provide a detailed assessment of the writer's personality traits as much as possible.\n",
    "        Also, return the 5 most recommended fields of study and professions based on the identified traits, and rank them according to the level of compatibility.\n",
    "        Return the response in the following format:\n",
    "        {{\n",
    "              \"personalityTraits\": [\n",
    "          {{\n",
    "            \"trait\": \"Trait Name\",\n",
    "            \"matchLevel\": \"Low / Medium / High / Very High\",\n",
    "            \"description\": \"A detailed explanation of the trait and how it is reflected in the handwriting\"\n",
    "          }},\n",
    "          ...\n",
    "        ],\n",
    "        \"recommendations\": [\n",
    "          {{\n",
    "            \"profession\": \"Profession Name\",\n",
    "            \"matchLevel\": \"Low / Medium / High / Very High\",\n",
    "            \"reason\": \"Detailed explanation of why this profession fits the identified traits\"\n",
    "          }},\n",
    "          ...\n",
    "        ]\n",
    "\n",
    "            \"\"\"\n",
    "            \n",
    "       \n",
    "        response_analysis = client_Gemini.chat.completions.create(\n",
    "            model=\"gemini-2.0-flash\",\n",
    "            messages=[\n",
    "                {\"role\": \"system\", \"content\": \"You are a graphology expert answer me alwayes in english.\"},\n",
    "                {\"role\": \"user\", \"content\": prompt}\n",
    "            ]\n",
    "        )\n",
    "\n",
    "        final_analysis = response_analysis.choices[0].message.content\n",
    "\n",
    "        return jsonify({\n",
    "            \"analysis\": final_analysis\n",
    "        })\n",
    "\n",
    "    except Exception as e:\n",
    "        import traceback\n",
    "        traceback.print_exc() \n",
    "        return jsonify({'error': str(e)}), 500\n",
    "\n",
    "if __name__ == '__main__':\n",
    "    app.run(host='0.0.0.0', port=5000)\n"
   ]
  },
  {
   "cell_type": "code",
   "execution_count": null,
   "id": "8bf8f2e6-5769-468e-bb5d-98ba2d72fbcf",
   "metadata": {
    "pycharm": {
     "name": "#%%\n"
    }
   },
   "outputs": [],
   "source": []
  }
 ],
 "metadata": {
  "kernelspec": {
   "display_name": "Python 3 (ipykernel)",
   "language": "python",
   "name": "python3"
  },
  "language_info": {
   "codemirror_mode": {
    "name": "ipython",
    "version": 3
   },
   "file_extension": ".py",
   "mimetype": "text/x-python",
   "name": "python",
   "nbconvert_exporter": "python",
   "pygments_lexer": "ipython3",
   "version": "3.13.0"
  }
 },
 "nbformat": 4,
 "nbformat_minor": 5
}
